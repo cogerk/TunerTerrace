{
 "cells": [
  {
   "cell_type": "markdown",
   "metadata": {},
   "source": [
    "# Install PyRadios"
   ]
  },
  {
   "cell_type": "code",
   "execution_count": 1,
   "metadata": {},
   "outputs": [
    {
     "name": "stdout",
     "output_type": "stream",
     "text": [
      "Requirement already satisfied: pyradios in /anaconda3/lib/python3.6/site-packages (0.0.18)\n",
      "Requirement already satisfied: appdirs>=1.4.3 in /anaconda3/lib/python3.6/site-packages (from pyradios) (1.4.3)\n",
      "Requirement already satisfied: requests>=2.22.0 in /anaconda3/lib/python3.6/site-packages (from pyradios) (2.22.0)\n",
      "Requirement already satisfied: urllib3!=1.25.0,!=1.25.1,<1.26,>=1.21.1 in /anaconda3/lib/python3.6/site-packages (from requests>=2.22.0->pyradios) (1.22)\n",
      "Requirement already satisfied: chardet<3.1.0,>=3.0.2 in /anaconda3/lib/python3.6/site-packages (from requests>=2.22.0->pyradios) (3.0.4)\n",
      "Requirement already satisfied: certifi>=2017.4.17 in /anaconda3/lib/python3.6/site-packages (from requests>=2.22.0->pyradios) (2018.4.16)\n",
      "Requirement already satisfied: idna<2.9,>=2.5 in /anaconda3/lib/python3.6/site-packages (from requests>=2.22.0->pyradios) (2.6)\n",
      "\u001b[33mWARNING: You are using pip version 19.1.1, however version 19.3.1 is available.\n",
      "You should consider upgrading via the 'pip install --upgrade pip' command.\u001b[0m\n",
      "Requirement already satisfied: geopy in /anaconda3/lib/python3.6/site-packages (1.20.0)\n",
      "Requirement already satisfied: geographiclib<2,>=1.49 in /anaconda3/lib/python3.6/site-packages (from geopy) (1.50)\n",
      "\u001b[33mWARNING: You are using pip version 19.1.1, however version 19.3.1 is available.\n",
      "You should consider upgrading via the 'pip install --upgrade pip' command.\u001b[0m\n"
     ]
    }
   ],
   "source": [
    "! pip install pyradios\n",
    "! pip install geopy"
   ]
  },
  {
   "cell_type": "markdown",
   "metadata": {},
   "source": [
    "# Import PyRadios & Create instance of RadioBrowser"
   ]
  },
  {
   "cell_type": "code",
   "execution_count": 2,
   "metadata": {},
   "outputs": [],
   "source": [
    "from pyradios import RadioBrowser\n",
    "from geopy.geocoders import Nominatim\n",
    "from random import choice\n",
    "from IPython.display import FileLink\n",
    "\n",
    "rb = RadioBrowser()\n",
    "geolocator = Nominatim(user_agent=\"TunerTerrace/1.0\")"
   ]
  },
  {
   "cell_type": "markdown",
   "metadata": {},
   "source": [
    "# Find Country/State/City associated with longitude and latitude\n",
    "\n",
    "We'll try to find a station in Kathmandu:\n",
    "27.7172° N, 85.3240° E\n",
    "\n",
    "Note that geopy accepts all kinds of longitude/latitude formats. N/S  vs. positive/negative, include or don't include degrees are all fine."
   ]
  },
  {
   "cell_type": "code",
   "execution_count": 29,
   "metadata": {},
   "outputs": [],
   "source": [
    "def reverse_geo(long_lat, geolocator):\n",
    "\n",
    "    location = geolocator.reverse(long_lat, language='en') \n",
    "    country = location.raw['address']['country']\n",
    "    state = location.raw['address']['state']\n",
    "    if state == 'Autonomous City of Buenos Aires':\n",
    "        state = 'Buenos Aires' #I don't have a a better way to deal with this haha\n",
    "    try: \n",
    "        state_district = location.raw['address']['state_district']\n",
    "    except KeyError:\n",
    "        state_district = None\n",
    "    try:\n",
    "        city = location.raw['address']['city']\n",
    "    except KeyError:\n",
    "        city = None\n",
    "    return [country, state, state_district, city]"
   ]
  },
  {
   "cell_type": "code",
   "execution_count": 4,
   "metadata": {},
   "outputs": [
    {
     "data": {
      "text/plain": [
       "['Nepal', 'Central Development Region', 'Bagmati', 'Kathmandu']"
      ]
     },
     "execution_count": 4,
     "metadata": {},
     "output_type": "execute_result"
    }
   ],
   "source": [
    "reverse_geo('27.7172° N, 85.3240° E', geolocator)"
   ]
  },
  {
   "cell_type": "markdown",
   "metadata": {},
   "source": [
    "# Find radio stations in/near that city"
   ]
  },
  {
   "cell_type": "code",
   "execution_count": 136,
   "metadata": {},
   "outputs": [],
   "source": [
    "def get_stations(loc_ls, rb):\n",
    "    country = loc_ls[0] \n",
    "    state = loc_ls[1] \n",
    "    state_district = loc_ls[2] \n",
    "    if loc_ls[3] == 'Autonomous City of Buenos Aires': # Super specific case I don't know how else to deal with\n",
    "        city = 'Buenos Aires'\n",
    "    else:\n",
    "        city =loc_ls[3]\n",
    "    # Find all stations in country\n",
    "    sta_country = rb.stations_bycountry(country=country)\n",
    "    print(\"Number of Stations in Country: \" + str(len(sta_country)))\n",
    "    # If only one then you're done\n",
    "    if len(sta_country) == 1:\n",
    "        choice_ls = sta_country\n",
    "    # If none then error\n",
    "    elif len(sta_country)==0:\n",
    "        raise('No Station Found')\n",
    "    \n",
    "    # Otherwise find all stations in state or state district\n",
    "    else:\n",
    "        sta_state = rb.stations_bystate(state=state) \n",
    "        if state_district:\n",
    "            sta_state_dist = rb.stations_bystate(state=state_district) \n",
    "        else:\n",
    "            sta_state_dist = []\n",
    "        sta_state = sta_state + sta_state_dist\n",
    "        \n",
    "        # If more stations in the state then the country than something went wrong, return empty list\n",
    "        if len(sta_state) > len(sta_country) or len(sta_state)==0:\n",
    "            sta_state == []\n",
    "            choice_ls = sta_country\n",
    "        else:\n",
    "            print(\"Number of Stations in State/Province/etc: \" + (str(len(sta_state))))\n",
    "            # If only one station in the state then you're done\n",
    "            if len(sta_state) == 1:\n",
    "                choice_ls = sta_state\n",
    "            # Otherwise find all stations in the city\n",
    "            else:\n",
    "                sta_city = rb.stations_bytag(tag=city) \n",
    "                if len(sta_city) > len(sta_state) or len(sta_city)==0:\n",
    "                    sta_city = []\n",
    "                    print(\"Number of Stations in City: \" + (str(len(sta_city))))\n",
    "                    choice_ls = sta_state\n",
    "                else:\n",
    "                    print(\"Number of Stations in City: \" + (str(len(sta_city))))\n",
    "                    choice_ls = sta_city\n",
    "            \n",
    "            \n",
    "    return choice_ls"
   ]
  },
  {
   "cell_type": "markdown",
   "metadata": {},
   "source": [
    "# Pick a station at random from the list"
   ]
  },
  {
   "cell_type": "code",
   "execution_count": 137,
   "metadata": {},
   "outputs": [],
   "source": [
    "def pick_stations(choice_ls):\n",
    "    play_me = choice(choice_ls)\n",
    "    print(play_me['name'] + ' @:')\n",
    "\n",
    "    print(play_me['url'])\n",
    "    return play_me"
   ]
  },
  {
   "cell_type": "markdown",
   "metadata": {},
   "source": [
    "# Put it all together..."
   ]
  },
  {
   "cell_type": "code",
   "execution_count": 138,
   "metadata": {},
   "outputs": [
    {
     "name": "stdout",
     "output_type": "stream",
     "text": [
      "Number of Stations in Country: 7\n",
      "Number of Stations in State/Province/etc: 3\n",
      "Number of Stations in City: 0\n",
      "Capital FM 92.4 @:\n",
      "http://streaming.softnep.net:8037/;\n"
     ]
    }
   ],
   "source": [
    "loc_ls = reverse_geo('27.7172° N, 85.3240° E', geolocator)\n",
    "choice_ls = get_stations(loc_ls, rb)\n",
    "station = pick_stations(choice_ls)"
   ]
  },
  {
   "cell_type": "markdown",
   "metadata": {},
   "source": [
    "There are no stations tagged as being from Kathmandu specifically, but there are 3 stations in the State District that Kathmandu is in, Bagmati.  Therefore, we randomly select a station from that list of 3 stations."
   ]
  },
  {
   "cell_type": "markdown",
   "metadata": {},
   "source": [
    "# Try Adelaide, Australia\n",
    "\n",
    "34.9285° S, 138.6007° E"
   ]
  },
  {
   "cell_type": "code",
   "execution_count": 139,
   "metadata": {},
   "outputs": [
    {
     "name": "stdout",
     "output_type": "stream",
     "text": [
      "Number of Stations in Country: 261\n",
      "Number of Stations in State/Province/etc: 22\n",
      "Number of Stations in City: 4\n",
      "ABC Local Radio 891 Adelaide (MP3) @:\n",
      "http://live-radio01.mediahubaustralia.com/5LRW/mp3/\n"
     ]
    }
   ],
   "source": [
    "loc_ls = reverse_geo('34.9285° S, 138.6007° E', geolocator)\n",
    "choice_ls = get_stations(loc_ls, rb)\n",
    "station = pick_stations(choice_ls)"
   ]
  },
  {
   "cell_type": "markdown",
   "metadata": {},
   "source": [
    "There are 4 stations tagged as being from Adelaide, so randomly pick one."
   ]
  },
  {
   "cell_type": "markdown",
   "metadata": {},
   "source": [
    "# Try Tonga!\n",
    "21.1790° S, 175.1982° W"
   ]
  },
  {
   "cell_type": "code",
   "execution_count": 140,
   "metadata": {},
   "outputs": [
    {
     "name": "stdout",
     "output_type": "stream",
     "text": [
      "Number of Stations in Country: 1\n",
      "Radio Tonga 101.7 Nuku'alofa @:\n",
      "http://tbcletio.serverroom.us:8142/;stream.mp3\n"
     ]
    }
   ],
   "source": [
    "loc_ls = reverse_geo('21.1790° S, 175.1982° W', geolocator)\n",
    "choice_ls = get_stations(loc_ls, rb)\n",
    "station = pick_stations(choice_ls)"
   ]
  },
  {
   "cell_type": "markdown",
   "metadata": {},
   "source": [
    "This time there is 1 station in the whole country, so just return that one."
   ]
  },
  {
   "cell_type": "markdown",
   "metadata": {},
   "source": [
    "# Try Buenos Aires!\n",
    "\n",
    "34.6037° S, 58.3816° W"
   ]
  },
  {
   "cell_type": "code",
   "execution_count": 141,
   "metadata": {},
   "outputs": [
    {
     "name": "stdout",
     "output_type": "stream",
     "text": [
      "Number of Stations in Country: 284\n",
      "Number of Stations in State/Province/etc: 106\n",
      "Number of Stations in City: 13\n",
      "FM Del 15 - 96.1 Mhz @:\n",
      "http://server.laradio.online:8419/;?1561750624655\n"
     ]
    }
   ],
   "source": [
    "loc_ls = reverse_geo('34.6037° S, 58.3816° W', geolocator)\n",
    "choice_ls = get_stations(loc_ls, rb)\n",
    "station = pick_stations(choice_ls)"
   ]
  },
  {
   "cell_type": "markdown",
   "metadata": {},
   "source": [
    "# Try LA!"
   ]
  },
  {
   "cell_type": "code",
   "execution_count": 142,
   "metadata": {},
   "outputs": [
    {
     "name": "stdout",
     "output_type": "stream",
     "text": [
      "Number of Stations in Country: 3674\n",
      "Number of Stations in State/Province/etc: 438\n",
      "Number of Stations in City: 43\n",
      "UCLA Radio.com - Los Angeles, CA @:\n",
      "http://uclaradio.com:8000/;\n"
     ]
    }
   ],
   "source": [
    "loc_ls = reverse_geo('34.0522° N, 118.2437° W', geolocator)\n",
    "choice_ls = get_stations(loc_ls, rb)\n",
    "station = pick_stations(choice_ls)\n"
   ]
  },
  {
   "cell_type": "markdown",
   "metadata": {},
   "source": [
    "This isn't totally perfect, because it returns a lot of stations for this densely populated area, and one of them is technically in compton, but it's still pretty good."
   ]
  },
  {
   "cell_type": "markdown",
   "metadata": {},
   "source": [
    "# Try Ghana!\n",
    "\n",
    "7.9465° N, 1.0232° W"
   ]
  },
  {
   "cell_type": "code",
   "execution_count": 143,
   "metadata": {},
   "outputs": [
    {
     "name": "stdout",
     "output_type": "stream",
     "text": [
      "Number of Stations in Country: 10\n",
      "Oman FM @:\n",
      "http://stream.zenolive.com/g0cuyd4h5xmtv\n"
     ]
    }
   ],
   "source": [
    "loc_ls = reverse_geo('7.9465° N, 1.0232° W', geolocator)\n",
    "choice_ls = get_stations(loc_ls, rb)\n",
    "station = pick_stations(choice_ls)"
   ]
  },
  {
   "cell_type": "markdown",
   "metadata": {},
   "source": [
    "# Try Tunis! \n",
    "33.8869° N, 9.5375° E"
   ]
  },
  {
   "cell_type": "code",
   "execution_count": 144,
   "metadata": {},
   "outputs": [
    {
     "name": "stdout",
     "output_type": "stream",
     "text": [
      "Number of Stations in Country: 244\n",
      "Number of Stations in State/Province/etc: 3\n",
      "Number of Stations in City: 0\n",
      "Radio tapaka Telugu @:\n",
      "https://mirchitapakahd-lh.akamaihd.net/i/mirchitapakahdlive_1_1@322572/master.m3u8\n"
     ]
    }
   ],
   "source": [
    "loc_ls = reverse_geo('17.3616° N, 82.5459° E', geolocator)\n",
    "choice_ls = get_stations(loc_ls, rb)\n",
    "station = pick_stations(choice_ls)"
   ]
  },
  {
   "cell_type": "markdown",
   "metadata": {},
   "source": [
    "# Try Seattle!"
   ]
  },
  {
   "cell_type": "code",
   "execution_count": 145,
   "metadata": {},
   "outputs": [
    {
     "name": "stdout",
     "output_type": "stream",
     "text": [
      "Number of Stations in Country: 3720\n",
      "Number of Stations in State/Province/etc: 138\n",
      "Number of Stations in City: 10\n",
      "KEXP 90.3 Seattle, WA @:\n",
      "http://live-mp3-128.kexp.org:8000\n"
     ]
    }
   ],
   "source": [
    "loc_ls = reverse_geo('47.6062° N, 122.3321° W', geolocator)\n",
    "choice_ls = get_stations(loc_ls, rb)\n",
    "station = pick_stations(choice_ls)"
   ]
  },
  {
   "cell_type": "markdown",
   "metadata": {},
   "source": [
    "# Try Tokyo!"
   ]
  },
  {
   "cell_type": "code",
   "execution_count": null,
   "metadata": {},
   "outputs": [],
   "source": [
    "loc_ls = reverse_geo('47.6062° N, 122.3321° W', geolocator)\n",
    "choice_ls = get_stations(loc_ls, rb)\n",
    "station = pick_stations(choice_ls)"
   ]
  }
 ],
 "metadata": {
  "kernelspec": {
   "display_name": "Python 3",
   "language": "python",
   "name": "python3"
  },
  "language_info": {
   "codemirror_mode": {
    "name": "ipython",
    "version": 3
   },
   "file_extension": ".py",
   "mimetype": "text/x-python",
   "name": "python",
   "nbconvert_exporter": "python",
   "pygments_lexer": "ipython3",
   "version": "3.6.5"
  }
 },
 "nbformat": 4,
 "nbformat_minor": 2
}
