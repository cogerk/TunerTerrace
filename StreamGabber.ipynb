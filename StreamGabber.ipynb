{
 "cells": [
  {
   "cell_type": "code",
   "execution_count": 3,
   "metadata": {},
   "outputs": [
    {
     "output_type": "stream",
     "name": "stdout",
     "text": [
      "Requirement already satisfied: pyradios in c:\\users\\timsd\\miniconda3\\lib\\site-packages (from -r requirements.txt (line 1)) (0.0.21)\n",
      "Requirement already satisfied: geopy in c:\\users\\timsd\\miniconda3\\lib\\site-packages (from -r requirements.txt (line 2)) (2.0.0)\n",
      "Requirement already satisfied: requests>=2.22.0 in c:\\users\\timsd\\miniconda3\\lib\\site-packages (from pyradios->-r requirements.txt (line 1)) (2.22.0)\n",
      "Requirement already satisfied: appdirs>=1.4.3 in c:\\users\\timsd\\miniconda3\\lib\\site-packages (from pyradios->-r requirements.txt (line 1)) (1.4.4)\n",
      "Requirement already satisfied: geographiclib<2,>=1.49 in c:\\users\\timsd\\miniconda3\\lib\\site-packages (from geopy->-r requirements.txt (line 2)) (1.50)\n",
      "Requirement already satisfied: urllib3!=1.25.0,!=1.25.1,<1.26,>=1.21.1 in c:\\users\\timsd\\miniconda3\\lib\\site-packages (from requests>=2.22.0->pyradios->-r requirements.txt (line 1)) (1.25.8)\n",
      "Requirement already satisfied: idna<2.9,>=2.5 in c:\\users\\timsd\\miniconda3\\lib\\site-packages (from requests>=2.22.0->pyradios->-r requirements.txt (line 1)) (2.8)\n",
      "Requirement already satisfied: certifi>=2017.4.17 in c:\\users\\timsd\\miniconda3\\lib\\site-packages (from requests>=2.22.0->pyradios->-r requirements.txt (line 1)) (2020.4.5.1)\n",
      "Requirement already satisfied: chardet<3.1.0,>=3.0.2 in c:\\users\\timsd\\miniconda3\\lib\\site-packages (from requests>=2.22.0->pyradios->-r requirements.txt (line 1)) (3.0.4)\n"
     ]
    }
   ],
   "source": [
    "! venv\\Scripts\\activate.bat\n",
    "! pip install -r requirements.txt"
   ]
  },
  {
   "cell_type": "markdown",
   "metadata": {},
   "source": [
    "# Import PyRadios & Create instance of RadioBrowser"
   ]
  },
  {
   "cell_type": "code",
   "execution_count": 4,
   "metadata": {},
   "outputs": [],
   "source": [
    "from pyradios import RadioBrowser\n",
    "from geopy.geocoders import Nominatim\n",
    "from random import choice\n",
    "from IPython.display import FileLink\n",
    "\n",
    "rb = RadioBrowser()\n",
    "geolocator = Nominatim(user_agent=\"TunerTerrace/1.0\")"
   ]
  },
  {
   "cell_type": "markdown",
   "metadata": {},
   "source": [
    "# Find Country/State/City associated with longitude and latitude\n",
    "\n",
    "We'll try to find a station in Kathmandu:\n",
    "27.7172° N, 85.3240° E\n",
    "\n",
    "Note that geopy accepts all kinds of longitude/latitude formats. N/S  vs. positive/negative, include or don't include degrees are all fine."
   ]
  },
  {
   "cell_type": "code",
   "execution_count": 67,
   "metadata": {},
   "outputs": [],
   "source": [
    "def reverse_geo(long_lat, geolocator):\n",
    "\n",
    "    location = geolocator.reverse(long_lat, language='en') \n",
    "    print(location.raw['address'])\n",
    "    country = location.raw['address']['country']\n",
    "    \n",
    "    #BUG: Does not handle differences in 'region' terminology gracefully, including lackthereof\n",
    "    try:\n",
    "        state = location.raw['address']['state']\n",
    "    except KeyError:\n",
    "        state = location.raw['address']['region']\n",
    "    if state == 'Autonomous City of Buenos Aires':\n",
    "        state = 'Buenos Aires' #I don't have a a better way to deal with this haha\n",
    "    try: \n",
    "        state_district = location.raw['address']['state_district']\n",
    "    except KeyError:\n",
    "        state_district = None\n",
    "    try:\n",
    "        city = location.raw['address']['city']\n",
    "    except KeyError:\n",
    "        city = None\n",
    "    return [country, state, state_district, city]"
   ]
  },
  {
   "cell_type": "code",
   "execution_count": null,
   "metadata": {},
   "outputs": [],
   "source": []
  },
  {
   "cell_type": "code",
   "execution_count": null,
   "metadata": {},
   "outputs": [],
   "source": []
  },
  {
   "cell_type": "code",
   "execution_count": 8,
   "metadata": {},
   "outputs": [
    {
     "output_type": "error",
     "ename": "NameError",
     "evalue": "name 'location' is not defined",
     "traceback": [
      "\u001b[1;31m---------------------------------------------------------------------------\u001b[0m",
      "\u001b[1;31mNameError\u001b[0m                                 Traceback (most recent call last)",
      "\u001b[1;32m<ipython-input-8-3093cc981a1b>\u001b[0m in \u001b[0;36m<module>\u001b[1;34m\u001b[0m\n\u001b[1;32m----> 1\u001b[1;33m \u001b[0mlocation\u001b[0m\u001b[1;33m\u001b[0m\u001b[1;33m\u001b[0m\u001b[0m\n\u001b[0m",
      "\u001b[1;31mNameError\u001b[0m: name 'location' is not defined"
     ]
    }
   ],
   "source": [
    "location"
   ]
  },
  {
   "cell_type": "code",
   "execution_count": 31,
   "metadata": {},
   "outputs": [
    {
     "output_type": "stream",
     "name": "stdout",
     "text": [
      "['United States of America', 'California', None, 'San Francisco']\n"
     ]
    },
    {
     "output_type": "execute_result",
     "data": {
      "text/plain": [
       "['Nepal', 'Bagmati Pradesh', None, 'Kathmandu']"
      ]
     },
     "metadata": {},
     "execution_count": 31
    }
   ],
   "source": [
    "print(reverse_geo('37°46′39″N 122°24′59″W', geolocator))\n",
    "reverse_geo('27.7172° N, 85.3240° E', geolocator)"
   ]
  },
  {
   "cell_type": "markdown",
   "metadata": {},
   "source": [
    "# Find radio stations in/near that city"
   ]
  },
  {
   "cell_type": "code",
   "execution_count": 46,
   "metadata": {},
   "outputs": [],
   "source": [
    "def get_stations(loc_ls, rb):\n",
    "    country = loc_ls[0] \n",
    "    state = loc_ls[1] \n",
    "    state_district = loc_ls[2] \n",
    "    if loc_ls[3] == 'Autonomous City of Buenos Aires': # Super specific case I don't know how else to deal with\n",
    "        city = 'Buenos Aires'\n",
    "    else:\n",
    "        city =loc_ls[3]\n",
    "    # Find all stations in country\n",
    "    sta_country = rb.stations_by_country(country=country)\n",
    "    print(\"Number of Stations in Country: \" + str(len(sta_country)))\n",
    "    # If only one then you're done\n",
    "    if len(sta_country) == 1:\n",
    "        choice_ls = sta_country\n",
    "    # If none then error\n",
    "    elif len(sta_country)==0:\n",
    "        raise('No Station Found')\n",
    "    \n",
    "    # Otherwise find all stations in state or state district\n",
    "    else:\n",
    "        sta_state = rb.stations_by_state(state=state) \n",
    "        if state_district:\n",
    "            sta_state_dist = rb.stations_by_state(state=state_district) \n",
    "        else:\n",
    "            sta_state_dist = []\n",
    "        sta_state = sta_state + sta_state_dist\n",
    "        \n",
    "        # If more stations in the state then the country than something went wrong, return empty list\n",
    "        if len(sta_state) > len(sta_country) or len(sta_state)==0:\n",
    "            sta_state == []\n",
    "            choice_ls = sta_country\n",
    "        else:\n",
    "            print(\"Number of Stations in State/Province/etc: \" + (str(len(sta_state))))\n",
    "            # If only one station in the state then you're done\n",
    "            if len(sta_state) == 1:\n",
    "                choice_ls = sta_state\n",
    "            # Otherwise find all stations in the city\n",
    "            else:\n",
    "                sta_city = rb.stations_by_tag(tag=city) \n",
    "                if len(sta_city) > len(sta_state) or len(sta_city)==0:\n",
    "                    sta_city = []\n",
    "                    print(\"Number of Stations in City: \" + (str(len(sta_city))))\n",
    "                    choice_ls = sta_state\n",
    "                else:\n",
    "                    print(\"Number of Stations in City: \" + (str(len(sta_city))))\n",
    "                    choice_ls = sta_city\n",
    "            \n",
    "            \n",
    "    return choice_ls"
   ]
  },
  {
   "cell_type": "markdown",
   "metadata": {},
   "source": [
    "# Pick a station at random from the list"
   ]
  },
  {
   "cell_type": "code",
   "execution_count": 36,
   "metadata": {},
   "outputs": [],
   "source": [
    "def pick_stations(choice_ls):\n",
    "    play_me = choice(choice_ls)\n",
    "    print(play_me['name'] + ' @:')\n",
    "\n",
    "    print(play_me['url'])\n",
    "    return play_me"
   ]
  },
  {
   "cell_type": "markdown",
   "metadata": {},
   "source": [
    "# Put it all together..."
   ]
  },
  {
   "cell_type": "code",
   "execution_count": 47,
   "metadata": {},
   "outputs": [
    {
     "output_type": "stream",
     "name": "stdout",
     "text": [
      "Number of Stations in Country: 8\n",
      "Kantipur FM @:\n",
      "http://www.surfmusic.de/m3u/radio-kantipur-fm,13785.m3u\n"
     ]
    }
   ],
   "source": [
    "loc_ls = reverse_geo('27.7172° N, 85.3240° E', geolocator)\n",
    "choice_ls = get_stations(loc_ls, rb)\n",
    "station = pick_stations(choice_ls)"
   ]
  },
  {
   "cell_type": "markdown",
   "metadata": {},
   "source": [
    "There are no stations tagged as being from Kathmandu specifically, but there are 3 stations in the State District that Kathmandu is in, Bagmati.  Therefore, we randomly select a station from that list of 3 stations."
   ]
  },
  {
   "cell_type": "markdown",
   "metadata": {},
   "source": [
    "# Try Adelaide, Australia\n",
    "\n",
    "34.9285° S, 138.6007° E"
   ]
  },
  {
   "cell_type": "code",
   "execution_count": 48,
   "metadata": {},
   "outputs": [
    {
     "output_type": "stream",
     "name": "stdout",
     "text": [
      "Number of Stations in Country: 305\n",
      "Number of Stations in State/Province/etc: 22\n",
      "Number of Stations in City: 3\n",
      "ABC Local Radio 891 Adelaide (AAC) @:\n",
      "http://live-radio01.mediahubaustralia.com/5LRW/aac/\n"
     ]
    }
   ],
   "source": [
    "loc_ls = reverse_geo('34.9285° S, 138.6007° E', geolocator)\n",
    "choice_ls = get_stations(loc_ls, rb)\n",
    "station = pick_stations(choice_ls)"
   ]
  },
  {
   "cell_type": "markdown",
   "metadata": {},
   "source": [
    "There are 4 stations tagged as being from Adelaide, so randomly pick one."
   ]
  },
  {
   "cell_type": "markdown",
   "metadata": {},
   "source": [
    "# Try Tonga!\n",
    "21.1790° S, 175.1982° W"
   ]
  },
  {
   "cell_type": "code",
   "execution_count": 49,
   "metadata": {},
   "outputs": [
    {
     "output_type": "stream",
     "name": "stdout",
     "text": [
      "Number of Stations in Country: 1\nRadio Tonga 101.7 Nuku'alofa @:\nhttp://tbcletio.serverroom.us:8142/;stream.mp3\n"
     ]
    }
   ],
   "source": [
    "loc_ls = reverse_geo('21.1790° S, 175.1982° W', geolocator)\n",
    "choice_ls = get_stations(loc_ls, rb)\n",
    "station = pick_stations(choice_ls)"
   ]
  },
  {
   "cell_type": "markdown",
   "metadata": {},
   "source": [
    "This time there is 1 station in the whole country, so just return that one."
   ]
  },
  {
   "cell_type": "markdown",
   "metadata": {},
   "source": [
    "# Try Buenos Aires!\n",
    "\n",
    "34.6037° S, 58.3816° W"
   ]
  },
  {
   "cell_type": "code",
   "execution_count": 68,
   "metadata": {},
   "outputs": [
    {
     "output_type": "stream",
     "name": "stdout",
     "text": [
      "{'house_number': '402', 'road': 'Cerrito', 'neighbourhood': 'Microcentro', 'suburb': 'San Nicolás', 'city': 'Autonomous City of Buenos Aires', 'postcode': 'C1043AAY', 'country': 'Argentina', 'country_code': 'ar'}\n"
     ]
    },
    {
     "output_type": "error",
     "ename": "KeyError",
     "evalue": "'region'",
     "traceback": [
      "\u001b[1;31m---------------------------------------------------------------------------\u001b[0m",
      "\u001b[1;31mKeyError\u001b[0m                                  Traceback (most recent call last)",
      "\u001b[1;32m<ipython-input-67-cd373bfee66f>\u001b[0m in \u001b[0;36mreverse_geo\u001b[1;34m(long_lat, geolocator)\u001b[0m\n\u001b[0;32m      6\u001b[0m     \u001b[1;32mtry\u001b[0m\u001b[1;33m:\u001b[0m\u001b[1;33m\u001b[0m\u001b[1;33m\u001b[0m\u001b[0m\n\u001b[1;32m----> 7\u001b[1;33m         \u001b[0mstate\u001b[0m \u001b[1;33m=\u001b[0m \u001b[0mlocation\u001b[0m\u001b[1;33m.\u001b[0m\u001b[0mraw\u001b[0m\u001b[1;33m[\u001b[0m\u001b[1;34m'address'\u001b[0m\u001b[1;33m]\u001b[0m\u001b[1;33m[\u001b[0m\u001b[1;34m'state'\u001b[0m\u001b[1;33m]\u001b[0m\u001b[1;33m\u001b[0m\u001b[1;33m\u001b[0m\u001b[0m\n\u001b[0m\u001b[0;32m      8\u001b[0m     \u001b[1;32mexcept\u001b[0m \u001b[0mKeyError\u001b[0m\u001b[1;33m:\u001b[0m\u001b[1;33m\u001b[0m\u001b[1;33m\u001b[0m\u001b[0m\n",
      "\u001b[1;31mKeyError\u001b[0m: 'state'",
      "\nDuring handling of the above exception, another exception occurred:\n",
      "\u001b[1;31mKeyError\u001b[0m                                  Traceback (most recent call last)",
      "\u001b[1;32m<ipython-input-68-9804e940ab21>\u001b[0m in \u001b[0;36m<module>\u001b[1;34m\u001b[0m\n\u001b[1;32m----> 1\u001b[1;33m \u001b[0mloc_ls\u001b[0m \u001b[1;33m=\u001b[0m \u001b[0mreverse_geo\u001b[0m\u001b[1;33m(\u001b[0m\u001b[1;34m'34.6037° S, 58.3816° W'\u001b[0m\u001b[1;33m,\u001b[0m \u001b[0mgeolocator\u001b[0m\u001b[1;33m)\u001b[0m\u001b[1;33m\u001b[0m\u001b[1;33m\u001b[0m\u001b[0m\n\u001b[0m\u001b[0;32m      2\u001b[0m \u001b[0mchoice_ls\u001b[0m \u001b[1;33m=\u001b[0m \u001b[0mget_stations\u001b[0m\u001b[1;33m(\u001b[0m\u001b[0mloc_ls\u001b[0m\u001b[1;33m,\u001b[0m \u001b[0mrb\u001b[0m\u001b[1;33m)\u001b[0m\u001b[1;33m\u001b[0m\u001b[1;33m\u001b[0m\u001b[0m\n\u001b[0;32m      3\u001b[0m \u001b[0mstation\u001b[0m \u001b[1;33m=\u001b[0m \u001b[0mpick_stations\u001b[0m\u001b[1;33m(\u001b[0m\u001b[0mchoice_ls\u001b[0m\u001b[1;33m)\u001b[0m\u001b[1;33m\u001b[0m\u001b[1;33m\u001b[0m\u001b[0m\n",
      "\u001b[1;32m<ipython-input-67-cd373bfee66f>\u001b[0m in \u001b[0;36mreverse_geo\u001b[1;34m(long_lat, geolocator)\u001b[0m\n\u001b[0;32m      7\u001b[0m         \u001b[0mstate\u001b[0m \u001b[1;33m=\u001b[0m \u001b[0mlocation\u001b[0m\u001b[1;33m.\u001b[0m\u001b[0mraw\u001b[0m\u001b[1;33m[\u001b[0m\u001b[1;34m'address'\u001b[0m\u001b[1;33m]\u001b[0m\u001b[1;33m[\u001b[0m\u001b[1;34m'state'\u001b[0m\u001b[1;33m]\u001b[0m\u001b[1;33m\u001b[0m\u001b[1;33m\u001b[0m\u001b[0m\n\u001b[0;32m      8\u001b[0m     \u001b[1;32mexcept\u001b[0m \u001b[0mKeyError\u001b[0m\u001b[1;33m:\u001b[0m\u001b[1;33m\u001b[0m\u001b[1;33m\u001b[0m\u001b[0m\n\u001b[1;32m----> 9\u001b[1;33m         \u001b[0mstate\u001b[0m \u001b[1;33m=\u001b[0m \u001b[0mlocation\u001b[0m\u001b[1;33m.\u001b[0m\u001b[0mraw\u001b[0m\u001b[1;33m[\u001b[0m\u001b[1;34m'address'\u001b[0m\u001b[1;33m]\u001b[0m\u001b[1;33m[\u001b[0m\u001b[1;34m'region'\u001b[0m\u001b[1;33m]\u001b[0m\u001b[1;33m\u001b[0m\u001b[1;33m\u001b[0m\u001b[0m\n\u001b[0m\u001b[0;32m     10\u001b[0m     \u001b[1;32mif\u001b[0m \u001b[0mstate\u001b[0m \u001b[1;33m==\u001b[0m \u001b[1;34m'Autonomous City of Buenos Aires'\u001b[0m\u001b[1;33m:\u001b[0m\u001b[1;33m\u001b[0m\u001b[1;33m\u001b[0m\u001b[0m\n\u001b[0;32m     11\u001b[0m         \u001b[0mstate\u001b[0m \u001b[1;33m=\u001b[0m \u001b[1;34m'Buenos Aires'\u001b[0m \u001b[1;31m#I don't have a a better way to deal with this haha\u001b[0m\u001b[1;33m\u001b[0m\u001b[1;33m\u001b[0m\u001b[0m\n",
      "\u001b[1;31mKeyError\u001b[0m: 'region'"
     ]
    }
   ],
   "source": [
    "loc_ls = reverse_geo('34.6037° S, 58.3816° W', geolocator)\n",
    "choice_ls = get_stations(loc_ls, rb)\n",
    "station = pick_stations(choice_ls)"
   ]
  },
  {
   "cell_type": "markdown",
   "metadata": {},
   "source": [
    "# Try LA!"
   ]
  },
  {
   "cell_type": "code",
   "execution_count": 51,
   "metadata": {},
   "outputs": [
    {
     "output_type": "stream",
     "name": "stdout",
     "text": [
      "Number of Stations in Country: 3288\n",
      "Number of Stations in State/Province/etc: 371\n",
      "Number of Stations in City: 28\n",
      "Echo Park Radio @:\n",
      "http://104.63.241.231:8000/listen\n"
     ]
    }
   ],
   "source": [
    "loc_ls = reverse_geo('34.0522° N, 118.2437° W', geolocator)\n",
    "choice_ls = get_stations(loc_ls, rb)\n",
    "station = pick_stations(choice_ls)\n"
   ]
  },
  {
   "cell_type": "markdown",
   "metadata": {},
   "source": [
    "This isn't totally perfect, because it returns a lot of stations for this densely populated area, and one of them is technically in compton, but it's still pretty good."
   ]
  },
  {
   "cell_type": "markdown",
   "metadata": {},
   "source": [
    "# Try Ghana!\n",
    "\n",
    "7.9465° N, 1.0232° W"
   ]
  },
  {
   "cell_type": "code",
   "execution_count": 52,
   "metadata": {},
   "outputs": [
    {
     "output_type": "stream",
     "name": "stdout",
     "text": [
      "Number of Stations in Country: 9\n",
      "Asempa FM 94.7 Accra @:\n",
      "http://stream.zenolive.com/esqh40m4wewtv\n"
     ]
    }
   ],
   "source": [
    "loc_ls = reverse_geo('7.9465° N, 1.0232° W', geolocator)\n",
    "choice_ls = get_stations(loc_ls, rb)\n",
    "station = pick_stations(choice_ls)"
   ]
  },
  {
   "cell_type": "markdown",
   "metadata": {},
   "source": [
    "# Try Tunis! \n",
    "33.8869° N, 9.5375° E"
   ]
  },
  {
   "cell_type": "code",
   "execution_count": 61,
   "metadata": {},
   "outputs": [
    {
     "output_type": "stream",
     "name": "stdout",
     "text": [
      "Number of Stations in Country: 31\n",
      "Number of Stations in State/Province/etc: 6\n",
      "Number of Stations in City: 0\n",
      "Radio Jeunes @:\n",
      "http://rtstream.tanitweb.com/jeunes\n"
     ]
    }
   ],
   "source": [
    "loc_ls = reverse_geo('36°48′23″N 10°10′54″E', geolocator)\n",
    "choice_ls = get_stations(loc_ls, rb)\n",
    "station = pick_stations(choice_ls)"
   ]
  },
  {
   "cell_type": "markdown",
   "metadata": {},
   "source": [
    "# Try Seattle!"
   ]
  },
  {
   "cell_type": "code",
   "execution_count": null,
   "metadata": {},
   "outputs": [],
   "source": []
  },
  {
   "cell_type": "code",
   "execution_count": 54,
   "metadata": {},
   "outputs": [
    {
     "output_type": "stream",
     "name": "stdout",
     "text": [
      "Number of Stations in Country: 3288\n",
      "Number of Stations in State/Province/etc: 141\n",
      "Number of Stations in City: 12\n",
      "WestSeattle.Online/Radio @:\n",
      "https://stream.radio.co/s80a8b3a06/listen\n"
     ]
    }
   ],
   "source": [
    "loc_ls = reverse_geo('47.6062° N, 122.3321° W', geolocator)\n",
    "choice_ls = get_stations(loc_ls, rb)\n",
    "station = pick_stations(choice_ls)"
   ]
  },
  {
   "cell_type": "markdown",
   "metadata": {},
   "source": [
    "# Try Tokyo!"
   ]
  },
  {
   "cell_type": "code",
   "execution_count": 70,
   "metadata": {},
   "outputs": [
    {
     "output_type": "stream",
     "name": "stdout",
     "text": [
      "{'amenity': 'Tokyo Metropolitan Office of Postal Service', 'road': 'Tocho-dori Ave.', 'quarter': 'Kabukicho', 'hamlet': 'Shibuya 1-chome', 'city': 'Tokyo', 'postcode': '163-8001', 'country': 'Japan', 'country_code': 'jp'}\n"
     ]
    },
    {
     "output_type": "error",
     "ename": "KeyError",
     "evalue": "'region'",
     "traceback": [
      "\u001b[1;31m---------------------------------------------------------------------------\u001b[0m",
      "\u001b[1;31mKeyError\u001b[0m                                  Traceback (most recent call last)",
      "\u001b[1;32m<ipython-input-67-cd373bfee66f>\u001b[0m in \u001b[0;36mreverse_geo\u001b[1;34m(long_lat, geolocator)\u001b[0m\n\u001b[0;32m      6\u001b[0m     \u001b[1;32mtry\u001b[0m\u001b[1;33m:\u001b[0m\u001b[1;33m\u001b[0m\u001b[1;33m\u001b[0m\u001b[0m\n\u001b[1;32m----> 7\u001b[1;33m         \u001b[0mstate\u001b[0m \u001b[1;33m=\u001b[0m \u001b[0mlocation\u001b[0m\u001b[1;33m.\u001b[0m\u001b[0mraw\u001b[0m\u001b[1;33m[\u001b[0m\u001b[1;34m'address'\u001b[0m\u001b[1;33m]\u001b[0m\u001b[1;33m[\u001b[0m\u001b[1;34m'state'\u001b[0m\u001b[1;33m]\u001b[0m\u001b[1;33m\u001b[0m\u001b[1;33m\u001b[0m\u001b[0m\n\u001b[0m\u001b[0;32m      8\u001b[0m     \u001b[1;32mexcept\u001b[0m \u001b[0mKeyError\u001b[0m\u001b[1;33m:\u001b[0m\u001b[1;33m\u001b[0m\u001b[1;33m\u001b[0m\u001b[0m\n",
      "\u001b[1;31mKeyError\u001b[0m: 'state'",
      "\nDuring handling of the above exception, another exception occurred:\n",
      "\u001b[1;31mKeyError\u001b[0m                                  Traceback (most recent call last)",
      "\u001b[1;32m<ipython-input-70-80544fff533c>\u001b[0m in \u001b[0;36m<module>\u001b[1;34m\u001b[0m\n\u001b[1;32m----> 1\u001b[1;33m \u001b[0mloc_ls\u001b[0m \u001b[1;33m=\u001b[0m \u001b[0mreverse_geo\u001b[0m\u001b[1;33m(\u001b[0m\u001b[1;34m'35°41′23″N 139°41′32″E'\u001b[0m\u001b[1;33m,\u001b[0m \u001b[0mgeolocator\u001b[0m\u001b[1;33m)\u001b[0m\u001b[1;33m\u001b[0m\u001b[1;33m\u001b[0m\u001b[0m\n\u001b[0m\u001b[0;32m      2\u001b[0m \u001b[0mchoice_ls\u001b[0m \u001b[1;33m=\u001b[0m \u001b[0mget_stations\u001b[0m\u001b[1;33m(\u001b[0m\u001b[0mloc_ls\u001b[0m\u001b[1;33m,\u001b[0m \u001b[0mrb\u001b[0m\u001b[1;33m)\u001b[0m\u001b[1;33m\u001b[0m\u001b[1;33m\u001b[0m\u001b[0m\n\u001b[0;32m      3\u001b[0m \u001b[0mstation\u001b[0m \u001b[1;33m=\u001b[0m \u001b[0mpick_stations\u001b[0m\u001b[1;33m(\u001b[0m\u001b[0mchoice_ls\u001b[0m\u001b[1;33m)\u001b[0m\u001b[1;33m\u001b[0m\u001b[1;33m\u001b[0m\u001b[0m\n",
      "\u001b[1;32m<ipython-input-67-cd373bfee66f>\u001b[0m in \u001b[0;36mreverse_geo\u001b[1;34m(long_lat, geolocator)\u001b[0m\n\u001b[0;32m      7\u001b[0m         \u001b[0mstate\u001b[0m \u001b[1;33m=\u001b[0m \u001b[0mlocation\u001b[0m\u001b[1;33m.\u001b[0m\u001b[0mraw\u001b[0m\u001b[1;33m[\u001b[0m\u001b[1;34m'address'\u001b[0m\u001b[1;33m]\u001b[0m\u001b[1;33m[\u001b[0m\u001b[1;34m'state'\u001b[0m\u001b[1;33m]\u001b[0m\u001b[1;33m\u001b[0m\u001b[1;33m\u001b[0m\u001b[0m\n\u001b[0;32m      8\u001b[0m     \u001b[1;32mexcept\u001b[0m \u001b[0mKeyError\u001b[0m\u001b[1;33m:\u001b[0m\u001b[1;33m\u001b[0m\u001b[1;33m\u001b[0m\u001b[0m\n\u001b[1;32m----> 9\u001b[1;33m         \u001b[0mstate\u001b[0m \u001b[1;33m=\u001b[0m \u001b[0mlocation\u001b[0m\u001b[1;33m.\u001b[0m\u001b[0mraw\u001b[0m\u001b[1;33m[\u001b[0m\u001b[1;34m'address'\u001b[0m\u001b[1;33m]\u001b[0m\u001b[1;33m[\u001b[0m\u001b[1;34m'region'\u001b[0m\u001b[1;33m]\u001b[0m\u001b[1;33m\u001b[0m\u001b[1;33m\u001b[0m\u001b[0m\n\u001b[0m\u001b[0;32m     10\u001b[0m     \u001b[1;32mif\u001b[0m \u001b[0mstate\u001b[0m \u001b[1;33m==\u001b[0m \u001b[1;34m'Autonomous City of Buenos Aires'\u001b[0m\u001b[1;33m:\u001b[0m\u001b[1;33m\u001b[0m\u001b[1;33m\u001b[0m\u001b[0m\n\u001b[0;32m     11\u001b[0m         \u001b[0mstate\u001b[0m \u001b[1;33m=\u001b[0m \u001b[1;34m'Buenos Aires'\u001b[0m \u001b[1;31m#I don't have a a better way to deal with this haha\u001b[0m\u001b[1;33m\u001b[0m\u001b[1;33m\u001b[0m\u001b[0m\n",
      "\u001b[1;31mKeyError\u001b[0m: 'region'"
     ]
    }
   ],
   "source": [
    "loc_ls = reverse_geo('35°41′23″N 139°41′32″E', geolocator)\n",
    "choice_ls = get_stations(loc_ls, rb)\n",
    "station = pick_stations(choice_ls)"
   ]
  }
 ],
 "metadata": {
  "kernelspec": {
   "display_name": "Python 3",
   "language": "python",
   "name": "python3"
  },
  "language_info": {
   "codemirror_mode": {
    "name": "ipython",
    "version": 3
   },
   "file_extension": ".py",
   "mimetype": "text/x-python",
   "name": "python",
   "nbconvert_exporter": "python",
   "pygments_lexer": "ipython3",
   "version": "3.7.6-final"
  }
 },
 "nbformat": 4,
 "nbformat_minor": 2
}